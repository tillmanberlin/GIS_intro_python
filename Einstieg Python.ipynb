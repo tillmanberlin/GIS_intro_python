{
 "cells": [
  {
   "cell_type": "markdown",
   "metadata": {},
   "source": [
    "# Einstieg Python"
   ]
  },
  {
   "cell_type": "markdown",
   "metadata": {},
   "source": [
    "## 1. Import der benötigten Module:"
   ]
  },
  {
   "cell_type": "code",
   "execution_count": null,
   "metadata": {},
   "outputs": [],
   "source": [
    "import geopandas as gp\n",
    "import pandas as pd\n",
    "import matplotlib.pyplot as plt\n",
    "import folium\n",
    "import warnings"
   ]
  },
  {
   "cell_type": "markdown",
   "metadata": {},
   "source": [
    "Warnungen können erst einmal unterdrückt werden"
   ]
  },
  {
   "cell_type": "code",
   "execution_count": null,
   "metadata": {},
   "outputs": [],
   "source": [
    "warnings.filterwarnings('ignore')"
   ]
  },
  {
   "cell_type": "markdown",
   "metadata": {},
   "source": [
    "## 2. Daten einladen und explorieren "
   ]
  },
  {
   "cell_type": "markdown",
   "metadata": {},
   "source": [
    "Laden Sie die *Berliner Bezirksdaten (Polygone)* und die *Berliner Bars (Punkte von OpenStreetMap extrahiert, s. Seminarblock 4)* ein."
   ]
  },
  {
   "cell_type": "code",
   "execution_count": null,
   "metadata": {},
   "outputs": [],
   "source": [
    "districts = gp.read_file(\"./data/bezirke_EPSG32633.shp\")\n",
    "bars = gp.read_file(\"./data/bars_bln.gpkg\")"
   ]
  },
  {
   "cell_type": "markdown",
   "metadata": {},
   "source": [
    "Lassen Sie sich die Attributtabelle des *Bezirke-Layers* über den *print*-Befehl anzeigen:"
   ]
  },
  {
   "cell_type": "code",
   "execution_count": null,
   "metadata": {},
   "outputs": [],
   "source": [
    "print('Das ist der Bezirke GeoDataFrame.')\n",
    "print(districts)"
   ]
  },
  {
   "cell_type": "markdown",
   "metadata": {},
   "source": [
    "Schauen Sie sich die *geometry-Spalte* genauer an. Welche Informationen werden hier gespeichert?\n",
    "\n"
   ]
  },
  {
   "cell_type": "markdown",
   "metadata": {},
   "source": [
    "<details>\n",
    "\n",
    "<summary> <b>Antwort - klicken zum ausklappen</b></summary>\n",
    "    \n",
    "Die <i>*geometry-Spalte*</i> beinhaltet sowohl Informationen zu den Geometrien (Punkte, Linien oder Polygone) der einzelnen Elemente, als auch Informationen zum gespeichterten Koordinatensystem.\n",
    "\n",
    "</details>\n"
   ]
  },
  {
   "cell_type": "markdown",
   "metadata": {},
   "source": [
    "Nutzen Sie den *print-Befehl*, um sich die Attributtabelle vom *Bars-Layer* anzeigen zu lassen.\n",
    "\n",
    "Können Sie aus dem Output herausfinden, wie viele Zeilen und Spalten der *Bars-Layer* hat?"
   ]
  },
  {
   "cell_type": "code",
   "execution_count": null,
   "metadata": {},
   "outputs": [],
   "source": [
    "print('Das ist der Bar GeoDataFrame.')\n",
    "print(bars)"
   ]
  },
  {
   "cell_type": "markdown",
   "metadata": {},
   "source": [
    "Um einen besseren Überblick zu bekommen, welche Spalten in einem Datensatz enthalten sind (ähnlich zu den Spalten von *Attributtabellen* in *QGIS*), *printen* Sie sich lediglich die Spalten (columns). Erläuterungen zu den einzelnen Spalten bekommen sie [hier](https://wiki.openstreetmap.org/wiki/Map_features#Additional_properties). "
   ]
  },
  {
   "cell_type": "code",
   "execution_count": null,
   "metadata": {},
   "outputs": [],
   "source": [
    "print('Das sind alle Spalten des Bar-GeoDataFrames.')\n",
    "print(bars.columns.tolist())"
   ]
  },
  {
   "cell_type": "markdown",
   "metadata": {},
   "source": [
    "Wir konzentrieren uns für die nächsten Schritte nur auf die Spalten 'full_id', 'name' und 'geometry'. Wir selektieren diese Spalten und speichern diese in einer neuen Variable ."
   ]
  },
  {
   "cell_type": "code",
   "execution_count": null,
   "metadata": {},
   "outputs": [],
   "source": [
    "bars_selected = bars[['full_id', 'name', 'geometry']]\n",
    "print(bars_selected)"
   ]
  },
  {
   "cell_type": "markdown",
   "metadata": {},
   "source": [
    "## 3. Koordinatenbezugssysteme"
   ]
  },
  {
   "cell_type": "markdown",
   "metadata": {},
   "source": [
    "In einem nächsten Schritt wollen wir die die Koordinatensysteme der Datensätze bestimmen und ggf. reprojizieren."
   ]
  },
  {
   "cell_type": "code",
   "execution_count": null,
   "metadata": {},
   "outputs": [],
   "source": [
    "print('Das ist das CRS vom Bezirke-Layer:')\n",
    "print(districts.crs)"
   ]
  },
  {
   "cell_type": "code",
   "execution_count": null,
   "metadata": {},
   "outputs": [],
   "source": [
    "print('Das ist das CRS vom Bar-Layer:')\n",
    "print(bars_selected.crs)"
   ]
  },
  {
   "cell_type": "markdown",
   "metadata": {},
   "source": [
    "Liegen die beiden Datensätze im selben Koordinatenystem vor? Suchen sie weitere Informationen zu den Koordinatensystem, z.B. unter https://epsg.io/. "
   ]
  },
  {
   "cell_type": "markdown",
   "metadata": {},
   "source": [
    "<details>\n",
    "\n",
    "<summary> <b>Antwort - klicken zum ausklappen</b></summary>\n",
    "    \n",
    "Die beiden Datensätze haben unterschiedliche Koordinatensysteme: \n",
    "    \n",
    "Der Bezrike-Layer liegt im Koordinatensystem <a href=\"https://epsg.io/32633\">WGS 84 / UTM zone 33N</a> vor. \n",
    "    \n",
    "Der Bar-Layer liegt im Koordinatensystem <a href=\"https://epsg.io/4326\">World Geodetic System 1984</a> vor.\n",
    "\n",
    "\n",
    "</details>"
   ]
  },
  {
   "cell_type": "markdown",
   "metadata": {},
   "source": [
    "Reprojizieren Sie das Koordinatenystem des *Bar-Layers* in das Koordinatenystem vom *Bezirke-Layer* mit der Funktion *to_crs()* und speichern das Ergebnis als neue Variable."
   ]
  },
  {
   "cell_type": "code",
   "execution_count": null,
   "metadata": {},
   "outputs": [],
   "source": [
    "bars_selected_reproj = bars_selected.to_crs(districts.crs)\n",
    "print(bars_selected_reproj.crs)"
   ]
  },
  {
   "cell_type": "markdown",
   "metadata": {},
   "source": [
    "## 4. statische Visualisierung"
   ]
  },
  {
   "cell_type": "markdown",
   "metadata": {},
   "source": [
    "Sie können sich die Datensätze für einen schnellen Überblick visualisieren lassen. "
   ]
  },
  {
   "cell_type": "code",
   "execution_count": null,
   "metadata": {},
   "outputs": [],
   "source": [
    "# Bezirke-Layer\n",
    "districts.plot()\n",
    "plt.show()"
   ]
  },
  {
   "cell_type": "code",
   "execution_count": null,
   "metadata": {},
   "outputs": [],
   "source": [
    "# Bar-Layer\n",
    "bars_selected_reproj.plot()\n",
    "plt.show()"
   ]
  },
  {
   "cell_type": "markdown",
   "metadata": {},
   "source": [
    "Sie können auch mehrere Datensätze in einer Karte abbilden. Auch lassen sich Farben, Größen, Umrisse etc. verändern. Probieren Sie gerne weitere Darstellungsoptionen aus."
   ]
  },
  {
   "cell_type": "code",
   "execution_count": null,
   "metadata": {},
   "outputs": [],
   "source": [
    "base = districts.plot(color='white', edgecolor='black')\n",
    "\n",
    "bars_selected_reproj.plot(ax=base, marker='o', color='red', markersize=3)"
   ]
  },
  {
   "cell_type": "markdown",
   "metadata": {},
   "source": [
    "## 4. Spatial Join"
   ]
  },
  {
   "cell_type": "markdown",
   "metadata": {},
   "source": [
    "Nun wollen wir herausfinden, **wie viele Bars es pro Bezirk gibt**. \n",
    "\n",
    "Dazu führen Sie in einem ersten Schritt einen *Spatial Join* durch. *Spatial Joins* dienen dazu, zwei Datensätze räumlich zu verknüpfen. Attribute werden aus dem ersten Datensatz an die Attribute im zweiten Datensatz auf Grundlage der relativen räumlichen Beziehung zwischen den Geometrien der beiden Datensätze angefügt. Eine Erklärung der verschiedenen Arten von relativen räumlichen Beziehung finden Sie [hier](https://pygis.io/docs/e_spatial_joins.html). Schauen Sie sich an, was die unterschiedlichen relativen räumlichen Beziehung (=Predicates) bedeuten (intersects, contains, equals, touches, overlaps, within, crosses).\n",
    "\n",
    "In *QGIS* vollzieht man den folgenden *Spatial Join* über das Tool *Join Attributes by Location* aus der *Processing Toolbox*.\n"
   ]
  },
  {
   "cell_type": "code",
   "execution_count": null,
   "metadata": {},
   "outputs": [],
   "source": [
    "bars_and_districts = districts.sjoin(bars_selected_reproj, predicate = 'contains')\n",
    "print(bars_and_districts)"
   ]
  },
  {
   "cell_type": "markdown",
   "metadata": {},
   "source": [
    "Schauen Sie sich das Ergebnis genau an. Was ist passiert?"
   ]
  },
  {
   "cell_type": "markdown",
   "metadata": {},
   "source": [
    "Nun wollen wir in einem nächsten Schritt berechnen, wie viele Bars es pro Bezirk gibt. Dazu nutzen wir die Funktionen *groupby()* und *size()*."
   ]
  },
  {
   "cell_type": "code",
   "execution_count": null,
   "metadata": {},
   "outputs": [],
   "source": [
    "count_bars_per_district = bars_and_districts.groupby('BEZIRK_NAM').size().rename('count_per_district')\n",
    "print(count_bars_per_district)"
   ]
  },
  {
   "cell_type": "markdown",
   "metadata": {},
   "source": [
    "Nun wollen wir das Ergebnis wieder mit unserem ursprünglichen *Bezirke-Layer* zusammenführen. Dafür nutzen wir die Funktion *merge* aus dem Modul *Pandas*."
   ]
  },
  {
   "cell_type": "code",
   "execution_count": null,
   "metadata": {},
   "outputs": [],
   "source": [
    "districts_with_bars = pd.merge(districts, count_bars_per_district, how='inner', on=['BEZIRK_NAM'])"
   ]
  },
  {
   "cell_type": "markdown",
   "metadata": {},
   "source": [
    "Wir können uns die Ergebnisse auch in einem Barplot anzeigen lassen: "
   ]
  },
  {
   "cell_type": "code",
   "execution_count": null,
   "metadata": {},
   "outputs": [],
   "source": [
    "plt.xticks(rotation='vertical')\n",
    "plt.bar(districts_with_bars.BEZIRK_NAM, districts_with_bars.count_per_district)"
   ]
  },
  {
   "cell_type": "markdown",
   "metadata": {},
   "source": [
    "## 5. interaktive Visualisierung"
   ]
  },
  {
   "cell_type": "markdown",
   "metadata": {},
   "source": [
    "Zum Schluss wollen wir uns noch das Modul *Folium* anschauen. *Folium* ermöglicht uns mit wenige Zeilen Code eine **interaktive Web-Karte** zu erstellen. Dabei greift *Folium* auf die Open-Source JavaScript Bücherei [*Leaflet*](https://leafletjs.com/) drauf zu.\n",
    "\n",
    "Zuerst müssen wir eine neue *ID-Spalte* einfügen."
   ]
  },
  {
   "cell_type": "code",
   "execution_count": null,
   "metadata": {},
   "outputs": [],
   "source": [
    "districts_with_bars[\"id\"] = districts_with_bars.index.astype(str)"
   ]
  },
  {
   "cell_type": "markdown",
   "metadata": {},
   "source": [
    "Jetzt können wir die interaktive Karte darstellen."
   ]
  },
  {
   "cell_type": "code",
   "execution_count": null,
   "metadata": {},
   "outputs": [],
   "source": [
    "# create base interactive map\n",
    "interactive_map = folium.Map(\n",
    "    location=(52.51791,13.39339),\n",
    "    zoom_start=10\n",
    ")\n",
    "\n",
    "# define input layer\n",
    "districts_with_bars_layer = folium.Choropleth(\n",
    "    geo_data=districts_with_bars,\n",
    "    data=districts_with_bars,\n",
    "    columns=(\"id\", \"count_per_district\"),\n",
    "    key_on=\"feature.id\",\n",
    "    legend_name=\"Bars per district, Berlin\",\n",
    ")\n",
    "\n",
    "# add input layer to base layer\n",
    "districts_with_bars_layer.add_to(interactive_map)\n",
    "\n",
    "\n",
    "# add tooltipp to display values \n",
    "def style_function(feature):\n",
    "    return {\n",
    "        \"color\": \"transparent\",\n",
    "        \"fillColor\": \"transparent\"\n",
    "    }\n",
    "\n",
    "# More complex tooltips can be created using the\n",
    "# `folium.features.GeoJsonTooltip` class. Below, we use\n",
    "# its most basic features: `fields` specifies which columns\n",
    "# should be displayed, `aliases` how they should be labelled.\n",
    "tooltip = folium.features.GeoJsonTooltip(\n",
    "    fields=([\"BEZIRK_NAM\", \"count_per_district\"]),\n",
    "    aliases=([\"District:\", \"Bars per district:\"])\n",
    ")\n",
    "\n",
    "# create tooltipp layer\n",
    "tooltip_layer = folium.features.GeoJson(\n",
    "    districts_with_bars,\n",
    "    style_function=style_function,\n",
    "    tooltip=tooltip\n",
    ")\n",
    "\n",
    "# add tooltipp layer to base layer\n",
    "tooltip_layer.add_to(interactive_map)\n",
    "\n",
    "# display map\n",
    "interactive_map"
   ]
  }
 ],
 "metadata": {
  "kernelspec": {
   "display_name": "Python 3 (ipykernel)",
   "language": "python",
   "name": "python3"
  },
  "language_info": {
   "codemirror_mode": {
    "name": "ipython",
    "version": 3
   },
   "file_extension": ".py",
   "mimetype": "text/x-python",
   "name": "python",
   "nbconvert_exporter": "python",
   "pygments_lexer": "ipython3",
   "version": "3.10.0"
  }
 },
 "nbformat": 4,
 "nbformat_minor": 4
}
